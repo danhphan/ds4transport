{
 "cells": [
  {
   "cell_type": "markdown",
   "id": "distributed-mitchell",
   "metadata": {},
   "source": [
    "# Discrete choice modelling\n",
    "This chapter show how we can use different discrete choice models for mode choice modelling by using Swissmetro data set"
   ]
  },
  {
   "cell_type": "markdown",
   "id": "fiscal-somewhere",
   "metadata": {},
   "source": [
    "### Using BiogemePandas"
   ]
  },
  {
   "cell_type": "code",
   "execution_count": null,
   "id": "everyday-nursing",
   "metadata": {},
   "outputs": [],
   "source": []
  },
  {
   "cell_type": "code",
   "execution_count": null,
   "id": "comparable-action",
   "metadata": {},
   "outputs": [],
   "source": []
  },
  {
   "cell_type": "code",
   "execution_count": null,
   "id": "arranged-sport",
   "metadata": {},
   "outputs": [],
   "source": []
  },
  {
   "cell_type": "markdown",
   "id": "nuclear-former",
   "metadata": {},
   "source": [
    "### Using Pylogit"
   ]
  },
  {
   "cell_type": "code",
   "execution_count": null,
   "id": "union-nation",
   "metadata": {},
   "outputs": [],
   "source": []
  },
  {
   "cell_type": "code",
   "execution_count": null,
   "id": "wanted-instrumentation",
   "metadata": {},
   "outputs": [],
   "source": []
  },
  {
   "cell_type": "code",
   "execution_count": null,
   "id": "connected-johnston",
   "metadata": {},
   "outputs": [],
   "source": []
  },
  {
   "cell_type": "code",
   "execution_count": null,
   "id": "intimate-cambridge",
   "metadata": {},
   "outputs": [],
   "source": []
  }
 ],
 "metadata": {
  "kernelspec": {
   "display_name": "Python 3",
   "language": "python",
   "name": "python3"
  },
  "language_info": {
   "codemirror_mode": {
    "name": "ipython",
    "version": 3
   },
   "file_extension": ".py",
   "mimetype": "text/x-python",
   "name": "python",
   "nbconvert_exporter": "python",
   "pygments_lexer": "ipython3",
   "version": "3.7.10"
  }
 },
 "nbformat": 4,
 "nbformat_minor": 5
}
