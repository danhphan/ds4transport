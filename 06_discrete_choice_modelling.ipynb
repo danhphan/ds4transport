{
 "cells": [
  {
   "cell_type": "markdown",
   "id": "reported-sight",
   "metadata": {},
   "source": [
    "# Discrete choice modelling\n",
    "This chapter show how we can use different discrete choice models for mode choice modelling by using Swissmetro data set"
   ]
  },
  {
   "cell_type": "markdown",
   "id": "threaded-brain",
   "metadata": {},
   "source": [
    "### Using BiogemePandas"
   ]
  },
  {
   "cell_type": "code",
   "execution_count": null,
   "id": "ultimate-charity",
   "metadata": {},
   "outputs": [],
   "source": []
  },
  {
   "cell_type": "code",
   "execution_count": null,
   "id": "alpha-indicator",
   "metadata": {},
   "outputs": [],
   "source": []
  },
  {
   "cell_type": "code",
   "execution_count": null,
   "id": "decent-allen",
   "metadata": {},
   "outputs": [],
   "source": []
  },
  {
   "cell_type": "markdown",
   "id": "romantic-programming",
   "metadata": {},
   "source": [
    "### Using Pylogit"
   ]
  },
  {
   "cell_type": "code",
   "execution_count": null,
   "id": "induced-inspector",
   "metadata": {},
   "outputs": [],
   "source": []
  },
  {
   "cell_type": "code",
   "execution_count": null,
   "id": "focal-dietary",
   "metadata": {},
   "outputs": [],
   "source": []
  },
  {
   "cell_type": "code",
   "execution_count": null,
   "id": "sporting-joseph",
   "metadata": {},
   "outputs": [],
   "source": []
  },
  {
   "cell_type": "code",
   "execution_count": null,
   "id": "existing-spirit",
   "metadata": {},
   "outputs": [],
   "source": []
  }
 ],
 "metadata": {
  "kernelspec": {
   "display_name": "Python 3",
   "language": "python",
   "name": "python3"
  },
  "language_info": {
   "codemirror_mode": {
    "name": "ipython",
    "version": 3
   },
   "file_extension": ".py",
   "mimetype": "text/x-python",
   "name": "python",
   "nbconvert_exporter": "python",
   "pygments_lexer": "ipython3",
   "version": "3.7.10"
  }
 },
 "nbformat": 4,
 "nbformat_minor": 5
}
