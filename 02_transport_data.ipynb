{
 "cells": [
  {
   "cell_type": "markdown",
   "id": "collect-cathedral",
   "metadata": {},
   "source": [
    "### Transport data\n",
    "Transport data include traffic flow, traffic network and travellers datasets.\n"
   ]
  },
  {
   "cell_type": "markdown",
   "id": "regulation-festival",
   "metadata": {},
   "source": [
    "### Traffic network data\n",
    "\n",
    "Popular datasets consist of:\n",
    "- Network data \n",
    "- Land use data\n",
    "- Level of service data\n",
    "\n",
    "Other new datasets such as people's posts on facebook, or twitters"
   ]
  },
  {
   "cell_type": "markdown",
   "id": "toxic-asthma",
   "metadata": {},
   "source": [
    "### Travel survey\n",
    "Househoulds, persons, and trips"
   ]
  },
  {
   "cell_type": "code",
   "execution_count": null,
   "id": "acute-material",
   "metadata": {},
   "outputs": [],
   "source": []
  },
  {
   "cell_type": "markdown",
   "id": "willing-canvas",
   "metadata": {},
   "source": [
    "### Road safety data\n",
    "\n",
    "UK Road Safety Data\n",
    "https://data.gov.uk/dataset/cb7ae6f0-4be6-4935-9277-47e5ce24a11f/road-safety-data\n"
   ]
  },
  {
   "cell_type": "markdown",
   "id": "charitable-sapphire",
   "metadata": {},
   "source": [
    "### Traffic count\n",
    "\n",
    "Traffic Count Locations\n",
    "\n",
    "https://discover.data.vic.gov.au/dataset/traffic-count-locations\n",
    "\n",
    "Traffic Signal Volume Data\n",
    "https://discover.data.vic.gov.au/dataset/traffic-signal-volume-data\n",
    "\n",
    "Victorian Crash Statistics\n",
    "https://www.spatialvision.com.au/crashstats/"
   ]
  },
  {
   "cell_type": "code",
   "execution_count": null,
   "id": "floral-atlantic",
   "metadata": {},
   "outputs": [],
   "source": []
  },
  {
   "cell_type": "code",
   "execution_count": null,
   "id": "transparent-springer",
   "metadata": {},
   "outputs": [],
   "source": []
  }
 ],
 "metadata": {
  "kernelspec": {
   "display_name": "Python 3",
   "language": "python",
   "name": "python3"
  },
  "language_info": {
   "codemirror_mode": {
    "name": "ipython",
    "version": 3
   },
   "file_extension": ".py",
   "mimetype": "text/x-python",
   "name": "python",
   "nbconvert_exporter": "python",
   "pygments_lexer": "ipython3",
   "version": "3.7.10"
  }
 },
 "nbformat": 4,
 "nbformat_minor": 5
}
