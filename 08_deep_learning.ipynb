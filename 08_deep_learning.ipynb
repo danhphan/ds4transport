{
 "cells": [
  {
   "cell_type": "markdown",
   "id": "spanish-belief",
   "metadata": {},
   "source": [
    "# Deep learning\n",
    "Several popular DL architecture:\n",
    "\n",
    "- FFN\n",
    "- CNN\n",
    "- RNN"
   ]
  },
  {
   "cell_type": "code",
   "execution_count": null,
   "id": "polished-swaziland",
   "metadata": {},
   "outputs": [],
   "source": []
  }
 ],
 "metadata": {
  "kernelspec": {
   "display_name": "Python 3",
   "language": "python",
   "name": "python3"
  },
  "language_info": {
   "codemirror_mode": {
    "name": "ipython",
    "version": 3
   },
   "file_extension": ".py",
   "mimetype": "text/x-python",
   "name": "python",
   "nbconvert_exporter": "python",
   "pygments_lexer": "ipython3",
   "version": "3.7.10"
  }
 },
 "nbformat": 4,
 "nbformat_minor": 5
}
