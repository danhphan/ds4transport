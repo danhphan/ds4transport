{
 "cells": [
  {
   "cell_type": "code",
   "execution_count": null,
   "metadata": {},
   "outputs": [],
   "source": [
    "# default_exp shopping_location_choice"
   ]
  },
  {
   "cell_type": "markdown",
   "metadata": {},
   "source": [
    "# Shopping destination choice using discrete choice and machine learning\n",
    "\n",
    "> API details."
   ]
  },
  {
   "cell_type": "code",
   "execution_count": null,
   "metadata": {},
   "outputs": [],
   "source": [
    "#hide\n",
    "from nbdev.showdoc import *"
   ]
  },
  {
   "cell_type": "code",
   "execution_count": null,
   "metadata": {},
   "outputs": [],
   "source": [
    "#export\n",
    "def wellcome(name=''):\n",
    "    return (f'Wellcome {name} to Data science for transport')"
   ]
  },
  {
   "cell_type": "code",
   "execution_count": null,
   "metadata": {},
   "outputs": [
    {
     "data": {
      "text/plain": [
       "'Wellcome  to Data science for transport'"
      ]
     },
     "execution_count": null,
     "metadata": {},
     "output_type": "execute_result"
    }
   ],
   "source": [
    "wellcome()"
   ]
  },
  {
   "cell_type": "markdown",
   "metadata": {},
   "source": [
    "### Current location choice model"
   ]
  },
  {
   "cell_type": "markdown",
   "metadata": {},
   "source": [
    "natives: 41 (gaps) * 1548 (zones), using sequential estimation (ALOGIT) [2]\n",
    "Daysim: Home-based tour mode-destination choice\n",
    "\n",
    "Choice set generation: alternative sampling procedures (a sample of 21 alternatives from 1244 zones)\n",
    "Number of alternatives: 9 (modes) X 21 (zones)\n",
    "SimMobility: nested mode-destination choice\n",
    "\n",
    "Choice set generation: all zones are available, except tour-based walk mode: the availability of destination zones is conditioned on the mode\n",
    "Number of alternatives: 9 (modes) x 1092 (zones)\n",
    "Long-term location choice: \n",
    "* residential location\n",
    "* work location\n",
    "\n",
    "Short-term location choice:\n",
    "* shopping location\n",
    "* \n",
    "\n",
    "\n",
    "#### Choice set generation/formation issue:\n",
    "\"A weakness of all discrete models is their dependence on availability information that is difficult to determine\" [1]\n",
    "\n",
    "How to address the problem of choice set generation:\n",
    "\n",
    "1. Using probabilistic models of alternative availability (too cumber some for the large multidimensional choice set)\n",
    "\n",
    "2. Using deterministic availability rules:\n",
    "    * Time and space constraints\n",
    "    * The distribution of outcomes in data, and consider unobserved outcomes as UNavailable\n",
    "\n",
    "\n",
    "#### Assumptions:\n",
    "\n",
    "\n",
    "1. GTA (TASHA): A prism and gap-based model (gap-destination)\n",
    "    * Use Home and Work as anchor point. For example: Home - Shopping - Work, or Home - Shopping - Home\n",
    "    * Choice set generation: \n",
    "    * Number of alternatives: 41 (gaps) * 1548 (zones), using sequential estimation (ALOGIT) [2]\n",
    "\n",
    "2. Daysim: Home-based tour mode-destination choice\n",
    "    * Choice set generation: alternative sampling procedures (a sample of 21 alternatives from 1244 zones)\n",
    "    * Number of alternatives: 9 (modes) X 21 (zones)\n",
    "    \n",
    "3. SimMobility: nested mode-destination choice\n",
    "    * Choice set generation: all zones are available, except tour-based walk mode: the availability of destination zones is conditioned on the mode\n",
    "    * Number of alternatives: 9 (modes) x 1092 (zones)\n",
    "\n",
    "\n",
    "\n",
    "\n",
    "[1] Bowman 1998, the day acitivity schedule approach to travel demand analysis (Daysim).\n",
    "\n",
    "[2] Wang, J., & Miller, E. J. (2014). A prism-based and gap-based approach to shopping location choice. Environment and Planning B: Planning and Design, 41(6), 977-1005.\n",
    "\n",
    "[3] GTA location choice. http://tmg.utoronto.ca/doc/1.6/gtamodel/model_design/scheduler.html#location-choice\n",
    "\n",
    "[4]\n"
   ]
  },
  {
   "cell_type": "code",
   "execution_count": null,
   "metadata": {},
   "outputs": [],
   "source": []
  }
 ],
 "metadata": {
  "kernelspec": {
   "display_name": "Python 3",
   "language": "python",
   "name": "python3"
  },
  "language_info": {
   "codemirror_mode": {
    "name": "ipython",
    "version": 3
   },
   "file_extension": ".py",
   "mimetype": "text/x-python",
   "name": "python",
   "nbconvert_exporter": "python",
   "pygments_lexer": "ipython3",
   "version": "3.7.10"
  }
 },
 "nbformat": 4,
 "nbformat_minor": 4
}
