{
 "cells": [
  {
   "cell_type": "markdown",
   "id": "boxed-cradle",
   "metadata": {},
   "source": [
    "# Machine learning models"
   ]
  },
  {
   "cell_type": "markdown",
   "id": "martial-elephant",
   "metadata": {},
   "source": [
    "- Logistic regresstion\n",
    "- Decision trees\n",
    "- Random forests, XGBoost\n",
    "- Neural networks, Deep learning"
   ]
  },
  {
   "cell_type": "code",
   "execution_count": null,
   "id": "dominican-mozambique",
   "metadata": {},
   "outputs": [],
   "source": []
  },
  {
   "cell_type": "code",
   "execution_count": null,
   "id": "honey-saskatchewan",
   "metadata": {},
   "outputs": [],
   "source": []
  }
 ],
 "metadata": {
  "kernelspec": {
   "display_name": "Python 3",
   "language": "python",
   "name": "python3"
  },
  "language_info": {
   "codemirror_mode": {
    "name": "ipython",
    "version": 3
   },
   "file_extension": ".py",
   "mimetype": "text/x-python",
   "name": "python",
   "nbconvert_exporter": "python",
   "pygments_lexer": "ipython3",
   "version": "3.7.10"
  }
 },
 "nbformat": 4,
 "nbformat_minor": 5
}
