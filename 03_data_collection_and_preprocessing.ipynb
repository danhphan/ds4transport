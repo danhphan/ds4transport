{
 "cells": [
  {
   "cell_type": "markdown",
   "id": "surface-master",
   "metadata": {},
   "source": [
    "# Data collection and preprocessing\n",
    "This chaper shows how we can collect transport data, clean the data for analysis"
   ]
  },
  {
   "cell_type": "code",
   "execution_count": null,
   "id": "fifteen-smoke",
   "metadata": {},
   "outputs": [],
   "source": []
  },
  {
   "cell_type": "markdown",
   "id": "continuous-tissue",
   "metadata": {},
   "source": [
    "### Download network data\n",
    "Network data and Point of Interest (POIs) information can be downloaded from OpenStreetmap"
   ]
  },
  {
   "cell_type": "code",
   "execution_count": null,
   "id": "understood-election",
   "metadata": {},
   "outputs": [],
   "source": []
  },
  {
   "cell_type": "code",
   "execution_count": null,
   "id": "perfect-discrimination",
   "metadata": {},
   "outputs": [],
   "source": []
  },
  {
   "cell_type": "code",
   "execution_count": null,
   "id": "tender-detail",
   "metadata": {},
   "outputs": [],
   "source": []
  },
  {
   "cell_type": "markdown",
   "id": "cheap-hardwood",
   "metadata": {},
   "source": [
    "### Download travel survey data\n",
    "Many cities around the grobe have published their travel survery online. For example:\n",
    "- The US:\n",
    "- China:\n",
    "- Europe:\n",
    "- Canada:\n",
    "- Australia:"
   ]
  },
  {
   "cell_type": "markdown",
   "id": "authorized-malaysia",
   "metadata": {},
   "source": [
    "##### Let's download a travel survey data from US"
   ]
  },
  {
   "cell_type": "code",
   "execution_count": null,
   "id": "literary-savannah",
   "metadata": {},
   "outputs": [],
   "source": []
  }
 ],
 "metadata": {
  "kernelspec": {
   "display_name": "Python 3",
   "language": "python",
   "name": "python3"
  },
  "language_info": {
   "codemirror_mode": {
    "name": "ipython",
    "version": 3
   },
   "file_extension": ".py",
   "mimetype": "text/x-python",
   "name": "python",
   "nbconvert_exporter": "python",
   "pygments_lexer": "ipython3",
   "version": "3.7.10"
  }
 },
 "nbformat": 4,
 "nbformat_minor": 5
}
