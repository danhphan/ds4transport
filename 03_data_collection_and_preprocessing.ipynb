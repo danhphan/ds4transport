{
 "cells": [
  {
   "cell_type": "markdown",
   "id": "specified-potato",
   "metadata": {},
   "source": [
    "# Data collection and preprocessing\n",
    "This chaper shows how we can collect transport data, clean the data for analysis.\n",
    "It aims to answer the questions: where are related transport datasets, and how to collect it.\n",
    "After collectting data, we need to turn these data into a format that we can work with. This process is called data preprocessing or data cleaning.\n",
    "\n",
    "Popular data sources:\n",
    "- Openstreetmap\n",
    "- Googlemap\n",
    "- \n",
    "\n",
    "There are several ways that can be use to download data, depending on the data sources."
   ]
  },
  {
   "cell_type": "code",
   "execution_count": null,
   "id": "junior-stable",
   "metadata": {},
   "outputs": [],
   "source": []
  },
  {
   "cell_type": "markdown",
   "id": "dietary-savings",
   "metadata": {},
   "source": [
    "### Download network data\n",
    "Network data and Point of Interest (POIs) information can be downloaded from OpenStreetmap"
   ]
  },
  {
   "cell_type": "code",
   "execution_count": null,
   "id": "spatial-queen",
   "metadata": {},
   "outputs": [],
   "source": []
  },
  {
   "cell_type": "code",
   "execution_count": null,
   "id": "under-phoenix",
   "metadata": {},
   "outputs": [],
   "source": []
  },
  {
   "cell_type": "code",
   "execution_count": null,
   "id": "genuine-option",
   "metadata": {},
   "outputs": [],
   "source": []
  },
  {
   "cell_type": "markdown",
   "id": "distinct-syria",
   "metadata": {},
   "source": [
    "### Download travel survey data\n",
    "Many cities around the grobe have published their travel survery online. For example:\n",
    "- The US:\n",
    "- China:\n",
    "- Europe:\n",
    "- Canada:\n",
    "- Australia:"
   ]
  },
  {
   "cell_type": "markdown",
   "id": "focused-manufacturer",
   "metadata": {},
   "source": [
    "##### Let's download a travel survey data from US"
   ]
  },
  {
   "cell_type": "markdown",
   "id": "headed-graph",
   "metadata": {},
   "source": [
    "### Download zone and census data"
   ]
  },
  {
   "cell_type": "code",
   "execution_count": null,
   "id": "fundamental-helen",
   "metadata": {},
   "outputs": [],
   "source": []
  }
 ],
 "metadata": {
  "kernelspec": {
   "display_name": "Python 3",
   "language": "python",
   "name": "python3"
  },
  "language_info": {
   "codemirror_mode": {
    "name": "ipython",
    "version": 3
   },
   "file_extension": ".py",
   "mimetype": "text/x-python",
   "name": "python",
   "nbconvert_exporter": "python",
   "pygments_lexer": "ipython3",
   "version": "3.7.10"
  }
 },
 "nbformat": 4,
 "nbformat_minor": 5
}
